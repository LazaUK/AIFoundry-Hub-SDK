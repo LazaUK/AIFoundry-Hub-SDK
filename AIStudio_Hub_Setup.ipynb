{
 "cells": [
  {
   "cell_type": "markdown",
   "metadata": {},
   "source": [
    "# Azure AI Studio: Hub resource creation"
   ]
  },
  {
   "cell_type": "markdown",
   "metadata": {},
   "source": [
    "This Jupyter notebook demonstrates setup of Azure AI Studio Hub resource:\n",
    "- Using bare minimum configuration, to auto-generate Storage and Key Vault resources;\n",
    "- Or, creating new Hub resource and integrate it with existing Storage and Key Vault resources."
   ]
  },
  {
   "cell_type": "markdown",
   "metadata": {},
   "source": [
    "### Pre-requisites"
   ]
  },
  {
   "cell_type": "code",
   "execution_count": null,
   "metadata": {},
   "outputs": [],
   "source": [
    "# Install Azure ML SDK, Azure Identity, Azure Storage and Azure Key Vault packages\n",
    "!pip install -r requirements.txt"
   ]
  },
  {
   "cell_type": "code",
   "execution_count": 2,
   "metadata": {},
   "outputs": [],
   "source": [
    "# Import required packages\n",
    "from azure.ai.ml import MLClient\n",
    "from azure.identity import DefaultAzureCredential\n",
    "from azure.mgmt.storage import StorageManagementClient\n",
    "from azure.mgmt.keyvault import KeyVaultManagementClient\n",
    "from azure.ai.ml.entities import Hub\n",
    "import json"
   ]
  },
  {
   "cell_type": "code",
   "execution_count": 3,
   "metadata": {},
   "outputs": [],
   "source": [
    "# Define Azure ML workspace and resource group\n",
    "subscription_id = <SUBSCRIPTION_ID> # Add your Azure subscription ID\n",
    "resource_group = <RESOURCE_GROUP> # Add your Azure resource group"
   ]
  },
  {
   "cell_type": "code",
   "execution_count": 4,
   "metadata": {},
   "outputs": [],
   "source": [
    "# Initialise MLClient\n",
    "client = MLClient(\n",
    "    credential = DefaultAzureCredential(),\n",
    "    subscription_id = subscription_id,\n",
    "    resource_group = resource_group\n",
    ")"
   ]
  },
  {
   "cell_type": "markdown",
   "metadata": {},
   "source": [
    "### Scenario 1: Hub creation with bare minimum configuration"
   ]
  },
  {
   "cell_type": "code",
   "execution_count": 5,
   "metadata": {},
   "outputs": [],
   "source": [
    "# Define AI Hub's configuration details\n",
    "ai_hub_name = \"Demo_AI_Hub_1\"\n",
    "ai_hub_display_name = \"Demo AI Hub 1\"\n",
    "ai_hub_description = \"Demo AI Hub with bare minimum configuration\"\n",
    "ai_hub_location = \"swedencentral\"\n",
    "ai_hub_resource_group = resource_group"
   ]
  },
  {
   "cell_type": "code",
   "execution_count": 6,
   "metadata": {},
   "outputs": [
    {
     "name": "stderr",
     "output_type": "stream",
     "text": [
      "Class Hub: This is an experimental class, and may change at any time. Please see https://aka.ms/azuremlexperimental for more information.\n"
     ]
    }
   ],
   "source": [
    "# Instantiate Hub object\n",
    "ai_hub_config = Hub(\n",
    "    name = ai_hub_name,\n",
    "    display_name = ai_hub_display_name,\n",
    "    description = ai_hub_description,\n",
    "    location = ai_hub_location,\n",
    "    resource_group = ai_hub_resource_group\n",
    ")"
   ]
  },
  {
   "cell_type": "code",
   "execution_count": null,
   "metadata": {},
   "outputs": [],
   "source": [
    "# Create Hub resource in Azure\n",
    "ai_hub = client.workspaces.begin_create(ai_hub_config).result()"
   ]
  },
  {
   "cell_type": "code",
   "execution_count": null,
   "metadata": {},
   "outputs": [],
   "source": [
    "# Print AI Hub details\n",
    "ai_hub_json = json.dumps(ai_hub._to_dict(), indent=4)\n",
    "print(ai_hub_json)\n"
   ]
  },
  {
   "cell_type": "markdown",
   "metadata": {},
   "source": [
    "### Scenario 2: Hub creation with existing dependant resources (Azure Storage and Azure Key Vault)"
   ]
  },
  {
   "cell_type": "code",
   "execution_count": 9,
   "metadata": {},
   "outputs": [],
   "source": [
    "# Define AI Hub's configuration details\n",
    "ai_hub_name = \"Demo_AI_Hub_2\"\n",
    "ai_hub_display_name = \"Demo AI Hub 2\"\n",
    "ai_hub_description = \"Demo AI Hub with existing dependent resources\"\n",
    "ai_hub_location = \"swedencentral\"\n",
    "ai_hub_resource_group = resource_group\n",
    "\n",
    "# Define existing dependent resources\n",
    "ai_hub_storage_account = <STORAGE_ACCOUNT_NAME> # Add your Azure Storage account name\n",
    "ai_hub_key_vault = <KEY_VAULT_NAME> # Add your Azure Key Vault name"
   ]
  },
  {
   "cell_type": "code",
   "execution_count": 10,
   "metadata": {},
   "outputs": [],
   "source": [
    "# Retrieve storage account' Resource ID\n",
    "storage_client = StorageManagementClient(\n",
    "    credential = DefaultAzureCredential(),\n",
    "    subscription_id = subscription_id\n",
    ")\n",
    "\n",
    "storage_account_id = storage_client.storage_accounts.get_properties(\n",
    "    resource_group,\n",
    "    ai_hub_storage_account\n",
    ").id"
   ]
  },
  {
   "cell_type": "code",
   "execution_count": 11,
   "metadata": {},
   "outputs": [],
   "source": [
    "# Retrieve key vault's Resource ID\n",
    "key_vault_client = KeyVaultManagementClient(\n",
    "    credential = DefaultAzureCredential(),\n",
    "    subscription_id = subscription_id\n",
    ")\n",
    "\n",
    "key_vault_id = key_vault_client.vaults.get(\n",
    "    resource_group,\n",
    "    ai_hub_key_vault\n",
    ").id"
   ]
  },
  {
   "cell_type": "code",
   "execution_count": 12,
   "metadata": {},
   "outputs": [],
   "source": [
    "# Instantiate Hub object\n",
    "ai_hub_config = Hub(\n",
    "    name = ai_hub_name,\n",
    "    display_name = ai_hub_display_name,\n",
    "    description = ai_hub_description,\n",
    "    location = ai_hub_location,\n",
    "    resource_group = ai_hub_resource_group,\n",
    "    storage_account = storage_account_id, # Existing storage account's Resource ID\n",
    "    key_vault = key_vault_id # Existing key vault's Resource ID\n",
    ")"
   ]
  },
  {
   "cell_type": "code",
   "execution_count": null,
   "metadata": {},
   "outputs": [],
   "source": [
    "# Create Hub resource in Azure\n",
    "ai_hub = client.workspaces.begin_create(ai_hub_config).result()"
   ]
  },
  {
   "cell_type": "code",
   "execution_count": null,
   "metadata": {},
   "outputs": [],
   "source": [
    "# Print AI Hub details\n",
    "ai_hub_json = json.dumps(ai_hub._to_dict(), indent=4)\n",
    "print(ai_hub_json)"
   ]
  }
 ],
 "metadata": {
  "kernelspec": {
   "display_name": "Python 3",
   "language": "python",
   "name": "python3"
  },
  "language_info": {
   "codemirror_mode": {
    "name": "ipython",
    "version": 3
   },
   "file_extension": ".py",
   "mimetype": "text/x-python",
   "name": "python",
   "nbconvert_exporter": "python",
   "pygments_lexer": "ipython3",
   "version": "3.11.9"
  }
 },
 "nbformat": 4,
 "nbformat_minor": 2
}
